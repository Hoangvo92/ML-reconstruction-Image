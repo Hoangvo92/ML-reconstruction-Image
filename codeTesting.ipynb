{
 "cells": [
  {
   "cell_type": "markdown",
   "id": "b348c738-5676-44cb-ae94-c6f9a2810265",
   "metadata": {},
   "source": [
    "# Machine Learning- reconstruct Image from partial/incomplete image"
   ]
  },
  {
   "cell_type": "raw",
   "id": "19a9d273-16b9-41c9-a95f-1c15a875adf5",
   "metadata": {},
   "source": [
    "https://github.com/simontomaskarlsson/GAN-MRI\n",
    "\n",
    "https://github.com/puneesh00/cs-mri-gan\n",
    "\n",
    "https://towardsdatascience.com/generative-adversarial-network-gan-for-dummies-a-step-by-step-tutorial-fdefff170391\n",
    "\n",
    "https://medium.com/howtoai/gan-for-medical-imaging-generating-images-and-annotations-8ad7c778809c\n",
    "\n",
    "\n",
    "https://github.com/birogeri/kspace-explorer\n",
    "\n",
    "\n",
    "https://medium.com/@vivek8981/dicom-to-jpg-and-extract-all-patients-information-using-python-5e6dd1f1a07d"
   ]
  },
  {
   "cell_type": "markdown",
   "id": "7364b10d-4f5d-4152-8044-57e02e14c8f6",
   "metadata": {},
   "source": [
    "https://github.com/carpentries-incubator/SDC-BIDS-fMRI.git"
   ]
  },
  {
   "cell_type": "raw",
   "id": "8bb1f397-0fed-4610-8414-e619719cb356",
   "metadata": {},
   "source": [
    "conda install -c bioconda medpy\n",
    "conda install -c conda-forge nibabel\n",
    "conda install -c aramislab pybids\n",
    "conda install -c conda-forge opencv\n",
    "conda install -c anaconda imageio"
   ]
  },
  {
   "cell_type": "markdown",
   "id": "379b76ee-d5a7-4722-86ff-f8490556fe18",
   "metadata": {},
   "source": [
    "https://towardsdatascience.com/medical-image-pre-processing-with-python-d07694852606"
   ]
  },
  {
   "cell_type": "code",
   "execution_count": null,
   "id": "1d4597d8-f02e-41a3-b2e0-9bcdf5214982",
   "metadata": {},
   "outputs": [],
   "source": []
  },
  {
   "cell_type": "code",
   "execution_count": null,
   "id": "50d8dc33-e593-4bb6-9896-efacc2aa0486",
   "metadata": {},
   "outputs": [],
   "source": []
  },
  {
   "cell_type": "code",
   "execution_count": null,
   "id": "0654ab55-34ac-4552-b769-6d985ad316e2",
   "metadata": {},
   "outputs": [],
   "source": [
    "import numpy as np\n",
    "import pandas as pd\n",
    "import matplotlib.pyplot as plt\n",
    "import seaborn as sns\n",
    "import cv2"
   ]
  },
  {
   "cell_type": "code",
   "execution_count": null,
   "id": "995621a2-ef6a-4d94-98da-15f7f13240f8",
   "metadata": {},
   "outputs": [],
   "source": [
    "from keras.layers import Layer, Input, Conv2D, Activation, add, BatchNormalization, UpSampling2D, ZeroPadding2D, Conv2DTranspose, Flatten, MaxPooling2D, AveragePooling2D\n",
    "from keras_contrib.layers.normalization import InstanceNormalization, InputSpec\n",
    "from keras.layers.advanced_activations import LeakyReLU\n",
    "from keras.layers.core import Dense\n",
    "from keras.optimizers import Adam\n",
    "from keras.backend import mean\n",
    "from keras.models import Model, model_from_json\n",
    "from keras.utils import plot_model\n",
    "from keras.engine.topology import Container\n",
    "\n",
    "from collections import OrderedDict\n",
    "from scipy.misc import imsave, toimage  # has depricated\n",
    "import numpy as np\n",
    "import random\n",
    "import datetime\n",
    "import time\n",
    "import json\n",
    "import math\n",
    "import csv\n",
    "import sys\n",
    "import os\n",
    "\n",
    "import keras.backend as K\n",
    "import tensorflow as tf"
   ]
  },
  {
   "cell_type": "raw",
   "id": "0b92a1ad-7314-47d1-93c4-7310f2b47d28",
   "metadata": {},
   "source": [
    "1. Collect K-Space for medical Images (MRI preferred)\n",
    "\n",
    "2. Remove some of the region of K-Space and destroy the image\n",
    "\n",
    "3. Use the destroyed image to reconstruct the original image using deep neural networks\n",
    "\n",
    "4. Define evaluation metrics\n",
    "\n",
    "5. Analyze the quality of your reconstructio"
   ]
  },
  {
   "cell_type": "markdown",
   "id": "187fd7f5-5e54-4cf5-b6c4-48c21833a85b",
   "metadata": {},
   "source": [
    "# 0/Get Image"
   ]
  },
  {
   "cell_type": "code",
   "execution_count": 31,
   "id": "96f5c96e-41e4-479a-8945-65fa8798e835",
   "metadata": {},
   "outputs": [
    {
     "name": "stdout",
     "output_type": "stream",
     "text": [
      "False\n",
      "1\n"
     ]
    }
   ],
   "source": [
    "\n",
    "# Reading an animated GIF file using Python Image Processing Library - Pillow\n",
    "\n",
    "from PIL import Image\n",
    "\n",
    "from PIL import GifImagePlugin\n",
    "\n",
    " \n",
    "\n",
    "imageObject = Image.open(\"OASIS1/OAS1_0001_MR1/RAW/OAS1_0001_MR1_mpr-1_anon_sag_66.gif\")\n",
    "\n",
    "print(imageObject.is_animated)\n",
    "\n",
    "print(imageObject.n_frames)\n",
    "\n",
    " \n",
    "\n",
    "# Display individual frames from the loaded animated GIF file\n",
    "\n",
    "for frame in range(0,imageObject.n_frames):\n",
    "\n",
    "    imageObject.seek(frame)\n",
    "\n",
    "    imageObject.show()"
   ]
  },
  {
   "cell_type": "raw",
   "id": "f1f917cb-ec11-4c31-9fdd-c88c427aa7ce",
   "metadata": {},
   "source": [
    "hdr_path = 'OASIS1/OAS1_0001_MR1/RAW/OAS1_0001_MR1_mpr-1_anon.hdr'\n",
    "import imageio\n",
    "# The following line only needs to run once for a user\n",
    "# to download the necessary binaries to read HDR.\n",
    "imageio.plugins.freeimage.download()\n",
    "img = imageio.imread(hdr_path, format='HDR-FI')"
   ]
  },
  {
   "cell_type": "raw",
   "id": "de1bd977-b0a8-45d2-a59b-aa2d34f66706",
   "metadata": {},
   "source": [
    "import cv2\n",
    "\n",
    "# IMREAD_ANYDEPTH is needed because even though the data is stored in 8-bit channels\n",
    "# when it's read into memory it's represented at a higher bit depth\n",
    "img = cv2.imread(hdr_path, flags=cv2.IMREAD_ANYDEPTH)"
   ]
  },
  {
   "cell_type": "raw",
   "id": "7751c3b9-33e5-4307-bcd0-136269abbede",
   "metadata": {},
   "source": [
    "from OpenImageIO import ImageBuf\n",
    "\n",
    "img = ImageBuf(hdr_path)\n",
    "\n",
    "# OpenImageIO has a lot of handy functions for manipulating\n",
    "# and writing the image back out.\n",
    "# You could also get a numpy array for the pixel data with:\n",
    "img.get_pixels()"
   ]
  },
  {
   "cell_type": "code",
   "execution_count": null,
   "id": "adaf633b-c87b-4e84-b26b-bb9b65a8e397",
   "metadata": {},
   "outputs": [],
   "source": [
    "# # MRI Images In Python\n",
    "# Python doesn't come with as many features/functions as Matlab does \"out of the box\", most things need to be added as a separate package. Here we'll be using one package to read/write MRI data and another to view them while we're programming.\n",
    "# \n",
    "# ## Reading/Writing MRI Data\n",
    "# MRI data can be read using the [nibabel](https://github.com/nipy/nibabel) package. It's very comprehensive and can cope with `nii.gz`, `.img/.hdr`, Philips `.PAR/.REC` and FreeSurfer `.mgz` files. It does more than just read in the array of voxels, it can also deal with header and affine information and comes with some useful tools to manipulate data.\n",
    "# \n",
    "# ## Visualising Data\n",
    "# I tend to use matplotlib to view images as I'm programming. Its more designed for making graphs but is pretty useful to quickly view an image.\n",
    "\n",
    "\n",
    "# First we need to tell Python what extra packages we want to use.\n",
    "\n",
    "\n",
    "import nibabel as nib # We'll call nibabel nib for short as we'll be calling it lots\n",
    "from nibabel.processing import resample_from_to \n",
    "import matplotlib.pyplot as plt # Same idea here, I'm lazy and don't want ot type loads of letters every time I want to make a plot\n",
    "\n",
    "# Now we're going to import an anatomical image of the brain. The `t1_img` variable contains all the information relevant to this nifti image, things like its voxels array, its affine transform and its voxel sizes are all stored here.\n",
    "\n",
    "\n",
    "t1_img = nib.load('T1.PAR', scaling='fp') # Import the data. Scaling='fp' is the equievlent of the -f flag in ptoa\n",
    "t1_voxels = t1_img.get_fdata() # Get a 3D array of voxels\n",
    "\n",
    "plt.imshow(t1_voxels[:, :, t1_voxels.shape[2]//2], cmap='gray') # Show the central axial slice\n",
    "plt.title('Brain') # Give the plot a title\n",
    "plt.axis(False) # Turn off the axis\n",
    "plt.show() # Show the plot\n",
    "\n",
    "t1_hdr = t1_img.header # Get the images header\n",
    "zoom = t1_hdr.get_zooms()\n",
    "print('The voxels of this image are {0:.1f} x {1:.1f} x {2:.1f} mm'.format(*zoom)) # Print the size of each voxel to the console\n",
    "\n",
    "t1_affine = t1_img.affine # We'll need this to save any output data. It tells us the mapping between the voxel space and scanner space\n",
    "\n",
    "# Now we're going to load a mask we want to apply to our image. This mask was output by FreeSurfer so is already a `.nii.gz` file.\n",
    "\n",
    "\n",
    "mask_img = nib.load('mask.nii.gz')\n",
    "mask_voxels = mask_img.get_fdata()>0.5\n",
    "plt.imshow(mask_voxels[:, :, mask_voxels.shape[2]//2])\n",
    "plt.title('Mask')\n",
    "plt.axis(False)\n",
    "plt.show()\n",
    "\n",
    "# Ahh. Because this mask has come from FreeSurfer it looks to be in a different space to the original image. We'll resample the mask into the space of the T1 data.\n",
    "\n",
    "\n",
    "mask_img = resample_from_to(mask_img, t1_img)\n",
    "mask_voxels = mask_img.get_fdata()>0.5\n",
    "plt.imshow(mask_voxels[:, :, mask_voxels.shape[2]//2])\n",
    "plt.title('Mask')\n",
    "plt.axis(False)\n",
    "plt.show()\n",
    "\n",
    "# That looks much better. Finally times the two arrays together to mask the T1 data.\n",
    "\n",
    "\n",
    "masked_t1_voxels = mask_voxels * t1_voxels\n",
    "plt.imshow(masked_t1_voxels[:, :, masked_t1_voxels.shape[2]//2], cmap='gray')\n",
    "plt.title('Masked Brain')\n",
    "plt.axis(False)\n",
    "plt.show()\n",
    "\n",
    "# We can now save our masked image as a nifti file.\n",
    "\n",
    "\n",
    "output_img = nib.Nifti1Image(masked_t1_voxels, t1_affine, t1_hdr)\n",
    "nib.save(output_img, 'output_data.nii.gz')"
   ]
  },
  {
   "cell_type": "code",
   "execution_count": 18,
   "id": "033f1bbb-bb49-4398-96a2-af726dafcedd",
   "metadata": {},
   "outputs": [
    {
     "data": {
      "image/png": "[encoded data removed]",
      "text/plain": [
       "<Figure size 432x288 with 1 Axes>"
      ]
     },
     "metadata": {
      "needs_background": "light"
     },
     "output_type": "display_data"
    }
   ],
   "source": [
    "import nibabel as nib # We'll call nibabel nib for short as we'll be calling it lots\n",
    "from nibabel.processing import resample_from_to \n",
    "import matplotlib.pyplot as plt # Same idea here, I'm lazy and don't want ot type loads of letters every time I want to make a plot\n",
    "\n",
    "# Now we're going to import an anatomical image of the brain. The `t1_img` variable contains all the information relevant to this nifti image, things like its voxels array, its affine transform and its voxel sizes are all stored here.\n",
    "\n",
    "\n",
    "t1_img = nib.load('OASIS1/OAS1_0001_MR1/RAW/OAS1_0001_MR1_mpr-4_anon.hdr') # Import the data. Scaling='fp' is the equievlent of the -f flag in ptoa\n",
    "t1_voxels = t1_img.get_fdata() # Get a 3D array of voxels\n",
    "\n",
    "plt.imshow(t1_voxels[:, :, t1_voxels.shape[2]//2], cmap='gray') # Show the central axial slice\n",
    "plt.title('Brain') # Give the plot a title\n",
    "plt.axis(False) # Turn off the axis\n",
    "plt.show() # Show the plot"
   ]
  },
  {
   "cell_type": "code",
   "execution_count": 25,
   "id": "864f3849-27b0-4a1a-a652-a829f6fe56b1",
   "metadata": {},
   "outputs": [
    {
     "name": "stdout",
     "output_type": "stream",
     "text": [
      "The voxels of this image are 1.0 x 1.0 x 1.2 mm\n"
     ]
    }
   ],
   "source": [
    "t1_hdr = t1_img.header # Get the images header\n",
    "zoom = t1_hdr.get_zooms()\n",
    "print('The voxels of this image are {0:.1f} x {1:.1f} x {2:.1f} mm'.format(*zoom)) # Print the size of each voxel to the console\n",
    "\n",
    "t1_affine = t1_img.affine # We'll need this to save any output data. It tells us the mapping between the voxel space and scanner space\n",
    "\n",
    "# Now we're going to load a mask we want to apply to our image. This mask was output by FreeSurfer so is already a `.nii.gz` file.\n",
    "\n"
   ]
  },
  {
   "cell_type": "code",
   "execution_count": null,
   "id": "69e8e9eb-bafc-4f70-aaf6-f64df048c164",
   "metadata": {},
   "outputs": [],
   "source": []
  },
  {
   "cell_type": "code",
   "execution_count": null,
   "id": "0c877686-797d-46ea-9c66-5a8d6b001bf5",
   "metadata": {},
   "outputs": [],
   "source": []
  },
  {
   "cell_type": "markdown",
   "id": "f24fcbca-4fc9-4b25-889a-4ae2bb85d39d",
   "metadata": {},
   "source": [
    "## 1/ Extract information from incomplete image"
   ]
  },
  {
   "cell_type": "raw",
   "id": "52da2f7f-ba93-4d34-bf16-47f0313f9365",
   "metadata": {},
   "source": [
    "Citation, DOI and article data\n",
    "k-space is an abstract concept and refers to a data matrix containing the raw MRI data. This data is subjected to mathematical function or formula called a transform to generate the final image. A discrete Fourier or fast Fourier transform 1-3 is generally used though other transforms such as the Hartley 4 can also work."
   ]
  },
  {
   "cell_type": "raw",
   "id": "96127d87-66fa-41ac-90b0-979e053d56f3",
   "metadata": {},
   "source": [
    "#!/usr/bin/python\n",
    "from os import listdir\n",
    "from PIL import Image as PImage\n",
    "\n",
    "def loadImages(path):\n",
    "    # return array of images\n",
    "\n",
    "    imagesList = listdir(path)\n",
    "    loadedImages = []\n",
    "    for image in imagesList:\n",
    "        img = PImage.open(path + image)\n",
    "        loadedImages.append(img)\n",
    "\n",
    "    return loadedImages\n",
    "\n",
    "path = \"/path/to/your/images/\"\n",
    "\n",
    "# your images in an array\n",
    "imgs = loadImages(path)\n",
    "\n",
    "for img in imgs:\n",
    "    # you can show every image\n",
    "    img.show()"
   ]
  },
  {
   "cell_type": "raw",
   "id": "e8a306b0-bd89-44ca-b459-3a257a11a690",
   "metadata": {
    "tags": []
   },
   "source": [
    "#https://www.programcreek.com/python/?CodeExample=read+gif\n",
    "import os\n",
    "from os import listdir\n",
    "import time\n",
    "import nibabel as nib # We'll call nibabel nib for short as we'll be calling it lots\n",
    "from nibabel.processing import resample_from_to \n",
    "imagesList = listdir('OASIS1')\n",
    "def loadImages(path):\n",
    "    imagesList = listdir(path)\n",
    "    loadedImages = []\n",
    "    #imageVoxels = []\n",
    "    masks = []\n",
    "    \n",
    "    for image in imagesList:\n",
    "        if image == '.DS_Store':\n",
    "            continue\n",
    "        newPaths = listdir(path + \"/\" + image + \"/RAW\")\n",
    "        for p in newPaths:\n",
    "            images = []\n",
    "            voxels = []\n",
    "            name, ext = os.path.splitext(p) # to find gif files among all files\n",
    "            if ext == '.hdr':\n",
    "                t1_img = nib.load(path + \"/\" + image + \"/RAW/\" + p) # Import the data. Scaling='fp' is the equievlent of the -f flag in ptoa\n",
    "                t1_voxels = t1_img.get_fdata() # Get a 3D array of voxels\n",
    "                images.append(t1_img) # all images of a folder are stored in a list\n",
    "                time.sleep(10)\n",
    "               # voxels.append(t1_voxels)# the same with voxels\n",
    "            \n",
    "        loadedImages.append(images)\n",
    "        #imageVoxels.append(voxels)\n",
    "        newPaths1 = listdir(path + \"/\" + image + \"/FSL_SEG\")\n",
    "        for m in newPaths1:\n",
    "            name, ext = os.path.splitext(m)\n",
    "            if ext == '.hdr':\n",
    "                mask = nib.load(path + \"/\" + image + \"/FSL_SEG/\" + m)\n",
    "                masks.append(mask)\n",
    "                time.sleep(10)\n",
    "    return loadedImages, masks #imageVoxels, masks\n",
    "                \n",
    "\n",
    "\n",
    "                \n",
    "imagesData, maskData = loadImages ('OASIS1')\n",
    "\n",
    "       "
   ]
  },
  {
   "cell_type": "code",
   "execution_count": 66,
   "id": "a65b574d-69a2-42b0-8e7a-10b9fe913b66",
   "metadata": {},
   "outputs": [],
   "source": [
    "#https://www.programcreek.com/python/?CodeExample=read+gif\n",
    "import PIL\n",
    "import numpy as np\n",
    "def readGif(filename, asNumpy=True):\n",
    "    \"\"\" readGif(filename, asNumpy=True)\n",
    "    \n",
    "    Read images from an animated GIF file.  Returns a list of numpy \n",
    "    arrays, or, if asNumpy is false, a list if PIL images.\n",
    "    \n",
    "    \"\"\"\n",
    "    \n",
    "    # Check PIL\n",
    "    if PIL is None:\n",
    "        raise RuntimeError(\"Need PIL to read animated gif files.\")\n",
    "    \n",
    "    # Check Numpy\n",
    "    if np is None:\n",
    "        raise RuntimeError(\"Need Numpy to read animated gif files.\")\n",
    "    \n",
    "    # Check whether it exists\n",
    "    if not os.path.isfile(filename):\n",
    "        raise IOError('File not found: '+str(filename))\n",
    "    \n",
    "    # Load file using PIL\n",
    "    pilIm = PIL.Image.open(filename)    \n",
    "    pilIm.seek(0)\n",
    "    \n",
    "    # Read all images inside\n",
    "    images = []\n",
    "    try:\n",
    "        while True:\n",
    "            # Get image as numpy array\n",
    "            tmp = pilIm.convert() # Make without palette\n",
    "            a = np.asarray(tmp)\n",
    "            if len(a.shape)==0:\n",
    "                raise MemoryError(\"Too little memory to convert PIL image to array\")\n",
    "            # Store, and next\n",
    "            images.append(a)\n",
    "            pilIm.seek(pilIm.tell()+1)\n",
    "    except EOFError:\n",
    "        pass\n",
    "    \n",
    "    # Convert to normal PIL images if needed\n",
    "    if not asNumpy:\n",
    "        images2 = images\n",
    "        images = []\n",
    "        for im in images2:            \n",
    "            images.append( PIL.Image.fromarray(im) )\n",
    "    \n",
    "    # Done\n",
    "    return images "
   ]
  },
  {
   "cell_type": "code",
   "execution_count": null,
   "id": "f9f6aa19-1257-4a77-b5e3-bc9fa68f04a1",
   "metadata": {},
   "outputs": [],
   "source": [
    "from PIL import Image\n",
    "\n",
    "from PIL import GifImagePlugin\n",
    "\n",
    "import os\n",
    "from os import listdir\n",
    "import time\n",
    "\n",
    "imagesList = listdir('OASIS1')\n",
    "def loadImagesGif(path):\n",
    "    imagesList = listdir(path)\n",
    "    loadedImages = []\n",
    "    masks = []\n",
    "    \n",
    "    for image in imagesList:\n",
    "        if image == '.DS_Store':\n",
    "            continue\n",
    "        newPaths = listdir(path + \"/\" + image + \"/RAW\")\n",
    "        for p in newPaths:\n",
    "            images = []\n",
    "            voxels = []\n",
    "            name, ext = os.path.splitext(p) # to find gif files among all files\n",
    "            if ext == '.gif':\n",
    "                t1_img = readGif(path + \"/\" + image + \"/RAW/\" + p) # Import the data. Scaling='fp' is the equievlent of the -f flag in ptoa\n",
    "                \n",
    "                images.append(t1_img) # all images of a folder are stored in a list\n",
    "                time.sleep(5)\n",
    "               \n",
    "            \n",
    "        loadedImages.append(images)\n",
    "        #imageVoxels.append(voxels)\n",
    "        newPaths1 = listdir(path + \"/\" + image + \"/FSL_SEG\")\n",
    "        for m in newPaths1:\n",
    "            name, ext = os.path.splitext(m)\n",
    "            if ext == '.gif':\n",
    "                mask = readGif(path + \"/\" + image + \"/FSL_SEG/\" + m)\n",
    "                masks.append(mask)\n",
    "              #  time.sleep(5)\n",
    "    return loadedImages, masks \n",
    "                \n",
    "\n",
    "\n",
    "                \n",
    "imagesDataGif, maskDataGif = loadImagesGif ('OASIS1')\n",
    "\n",
    "       "
   ]
  },
  {
   "cell_type": "code",
   "execution_count": 88,
   "id": "028fd690-c4ee-4a6d-a47e-4c10edad689a",
   "metadata": {},
   "outputs": [
    {
     "data": {
      "text/plain": [
       "1"
      ]
     },
     "execution_count": 88,
     "metadata": {},
     "output_type": "execute_result"
    }
   ],
   "source": [
    "len(imagesDataGif[24])"
   ]
  },
  {
   "cell_type": "raw",
   "id": "22808cf1-0a3b-424d-8485-ad6c71108a7f",
   "metadata": {},
   "source": [
    "voxels = imagesData[0][1].get_fdata()# for .hdr images\n",
    "plt.imshow(voxels[:, :, voxels.shape[2]//2], cmap='gray') # Show the central axial slice\n",
    "plt.title('Brain') # Give the plot a title\n",
    "plt.axis(False) # Turn off the axis\n",
    "plt.show() # Show the plot"
   ]
  },
  {
   "cell_type": "code",
   "execution_count": 52,
   "id": "4372d201-d4ed-4957-905b-3a87df2d8dcc",
   "metadata": {},
   "outputs": [],
   "source": [
    "import numpy as np\n",
    "from numpy.fft import fftshift, ifftshift, fftn, ifftn\n",
    "\n",
    "def transform_kspace_to_image(k, dim=None, img_shape=None):\n",
    "    \"\"\" Computes the Fourier transform from k-space to image space\n",
    "    along a given or all dimensions\n",
    "    :param k: k-space data\n",
    "    :param dim: vector of dimensions to transform\n",
    "    :param img_shape: desired shape of output image\n",
    "    :returns: data in image space (along transformed dimensions)\n",
    "    \"\"\"\n",
    "    if not dim:\n",
    "        dim = range(k.ndim)\n",
    "\n",
    "    img = fftshift(ifftn(ifftshift(k, axes=dim), s=img_shape, axes=dim), axes=dim)\n",
    "    img *= np.sqrt(np.prod(np.take(img.shape, dim)))\n",
    "    return img\n",
    "\n",
    "\n",
    "def transform_image_to_kspace(img, dim=None, k_shape=None):\n",
    "    \"\"\" Computes the Fourier transform from image space to k-space space\n",
    "    along a given or all dimensions\n",
    "    :param img: image space data\n",
    "    :param dim: vector of dimensions to transform\n",
    "    :param k_shape: desired shape of output k-space data\n",
    "    :returns: data in k-space (along transformed dimensions)\n",
    "    \"\"\"\n",
    "    if not dim:\n",
    "        dim = range(img.ndim)\n",
    "\n",
    "    k = fftshift(fftn(ifftshift(img, axes=dim), s=k_shape, axes=dim), axes=dim)\n",
    "    k /= np.sqrt(np.prod(np.take(img.shape, dim)))\n",
    "    return k"
   ]
  },
  {
   "cell_type": "code",
   "execution_count": 55,
   "id": "ea815ac1-f627-41ad-86d4-f57b4c9d9678",
   "metadata": {},
   "outputs": [
    {
     "name": "stdout",
     "output_type": "stream",
     "text": [
      "(256, 256)\n"
     ]
    }
   ],
   "source": [
    "# Reading an animated GIF file using Python Image Processing Library - Pillow\n",
    "\n",
    "from PIL import Image\n",
    "\n",
    "from PIL import GifImagePlugin\n",
    "\n",
    " \n",
    "\n",
    "imageObject = Image.open(\"OASIS1/OAS1_0001_MR1/RAW/OAS1_0001_MR1_mpr-1_anon_sag_66.gif\")\n",
    "img_arr = np.array(imageObject)\n",
    "\n",
    "k_image = transform_image_to_kspace(img_arr)\n",
    "print(img_arr.shape)\n",
    "\n"
   ]
  },
  {
   "cell_type": "code",
   "execution_count": 56,
   "id": "6956901d-0dc1-45f6-9330-18b639a13416",
   "metadata": {},
   "outputs": [
    {
     "data": {
      "text/plain": [
       "array([[-0.3046875 +0.j        ,  0.42387155-7.53812587j,\n",
       "        -0.39245334-4.409622j  , ..., -3.56064022+1.54208952j,\n",
       "        -0.39245334+4.409622j  ,  0.42387155+7.53812587j],\n",
       "       [ 0.09814306+1.51789783j,  1.22497813-2.04024897j,\n",
       "        -2.31796005-2.32399349j, ..., -4.39232468-1.72835789j,\n",
       "        -1.3602197 +1.0014344j , -1.38334591+5.91744381j],\n",
       "       [ 0.53506511-1.34705643j,  2.0291962 -0.7986021j ,\n",
       "        -0.25727713+1.43204561j, ..., -1.26719817+0.69131187j,\n",
       "         0.59141834+2.88566752j, -0.61322079+2.97431924j],\n",
       "       ...,\n",
       "       [ 2.12449693+3.22480803j,  5.04753502-0.3338351j ,\n",
       "         4.03416703-2.03797956j, ...,  0.9251646 -2.53926009j,\n",
       "        -0.95198834+0.57953688j, -0.08872413+3.32366895j],\n",
       "       [ 0.53506511+1.34705643j, -0.61322079-2.97431924j,\n",
       "         0.59141834-2.88566752j, ...,  0.28220643-2.79004791j,\n",
       "        -0.25727713-1.43204561j,  2.0291962 +0.7986021j ],\n",
       "       [ 0.09814306-1.51789783j, -1.38334591-5.91744381j,\n",
       "        -1.3602197 -1.0014344j , ..., -3.27173193+2.7803835j ,\n",
       "        -2.31796005+2.32399349j,  1.22497813+2.04024897j]])"
      ]
     },
     "execution_count": 56,
     "metadata": {},
     "output_type": "execute_result"
    }
   ],
   "source": [
    "k_image"
   ]
  },
  {
   "cell_type": "code",
   "execution_count": 57,
   "id": "dffdebe3-8743-4c38-8772-82a4004dd134",
   "metadata": {},
   "outputs": [],
   "source": [
    "img_arr = img_arr - 180\n",
    "new_img = Image.fromarray(img_arr)\n",
    "new_img.save(\"altered_test.png\")"
   ]
  },
  {
   "cell_type": "raw",
   "id": "228787d1-ef80-4d66-a122-d97720af4f48",
   "metadata": {},
   "source": [
    "https://www.delftstack.com/howto/matplotlib/convert-a-numpy-array-to-pil-image-python/\n",
    "https://appdividend.com/2020/06/22/how-to-convert-pil-image-to-numpy-array-in-python/"
   ]
  },
  {
   "cell_type": "code",
   "execution_count": 1,
   "id": "0a5c3e22-3bac-4bc3-bde8-63218076067c",
   "metadata": {},
   "outputs": [],
   "source": []
  },
  {
   "cell_type": "code",
   "execution_count": 85,
   "id": "73f6ea09-df3e-4b68-ba6c-8da4b70cdb99",
   "metadata": {},
   "outputs": [],
   "source": [
    "imageObject = readGif(\"OASIS1/OAS1_0005_MR1/RAW/OAS1_0005_MR1_mpr-1_anon_sag_66.gif\")"
   ]
  },
  {
   "cell_type": "code",
   "execution_count": 86,
   "id": "b409b6e8-0dea-4cca-a95d-8f6303a0df9d",
   "metadata": {},
   "outputs": [
    {
     "data": {
      "text/plain": [
       "[array([[0, 0, 0, ..., 0, 0, 0],\n",
       "        [0, 0, 0, ..., 0, 0, 0],\n",
       "        [0, 0, 0, ..., 0, 0, 0],\n",
       "        ...,\n",
       "        [0, 0, 0, ..., 0, 0, 0],\n",
       "        [0, 0, 0, ..., 0, 0, 0],\n",
       "        [0, 0, 0, ..., 0, 0, 0]], dtype=uint8)]"
      ]
     },
     "execution_count": 86,
     "metadata": {},
     "output_type": "execute_result"
    }
   ],
   "source": [
    "imageObject"
   ]
  },
  {
   "cell_type": "code",
   "execution_count": 87,
   "id": "e7bc469a-e4a3-4766-a4c2-82fdbef3fecb",
   "metadata": {},
   "outputs": [],
   "source": [
    "new_img = Image.fromarray(imageObject[0])\n",
    "new_img.save(\"altered_test1.png\")"
   ]
  },
  {
   "cell_type": "code",
   "execution_count": null,
   "id": "4b7c32d2-3104-4317-b7c5-72067adba2e3",
   "metadata": {},
   "outputs": [],
   "source": []
  },
  {
   "cell_type": "code",
   "execution_count": null,
   "id": "dcf0176d-f3b2-4f94-b642-014e5954274f",
   "metadata": {},
   "outputs": [],
   "source": [
    "image_data = image.get_fdata()"
   ]
  },
  {
   "cell_type": "code",
   "execution_count": null,
   "id": "67ae247b-5d93-46f7-ad46-76b26404b65e",
   "metadata": {},
   "outputs": [],
   "source": [
    "image_data.shape"
   ]
  },
  {
   "cell_type": "code",
   "execution_count": null,
   "id": "ecaaeb9c-3b85-4f63-b44a-6c146172dc99",
   "metadata": {},
   "outputs": [],
   "source": []
  },
  {
   "cell_type": "code",
   "execution_count": null,
   "id": "323402c4-55c3-4b6a-bae9-f20ba285a446",
   "metadata": {},
   "outputs": [],
   "source": []
  },
  {
   "cell_type": "code",
   "execution_count": null,
   "id": "c287dd9f-f2f7-4e67-9fdb-e63c453a6a88",
   "metadata": {},
   "outputs": [],
   "source": []
  },
  {
   "cell_type": "code",
   "execution_count": null,
   "id": "4647d6c3-2ad7-45bd-a952-58954ee47494",
   "metadata": {},
   "outputs": [],
   "source": []
  },
  {
   "cell_type": "code",
   "execution_count": null,
   "id": "22a8ff89-c7d9-4ae1-922f-6b8e80c9df19",
   "metadata": {},
   "outputs": [],
   "source": []
  },
  {
   "cell_type": "code",
   "execution_count": null,
   "id": "1326da13-6e7e-4985-a97e-81e046c8e16a",
   "metadata": {},
   "outputs": [],
   "source": []
  },
  {
   "cell_type": "code",
   "execution_count": null,
   "id": "bc0b8cbb-c4fe-4966-a52f-b9d6facca281",
   "metadata": {},
   "outputs": [],
   "source": []
  },
  {
   "cell_type": "code",
   "execution_count": null,
   "id": "1f6c0427-a9ca-4b77-913f-b786eda1c925",
   "metadata": {},
   "outputs": [],
   "source": [
    "import os\n",
    "import numpy as np\n",
    "from PIL import Image\n",
    "from keras.utils import Sequence\n",
    "#from skimage.io import imread\n",
    "\n",
    "\n",
    "def load_data(nr_of_channels, batch_size=1, nr_A_train_imgs=None, nr_B_train_imgs=None,\n",
    "              nr_A_test_imgs=None, nr_B_test_imgs=None, subfolder='',\n",
    "              generator=False, D_model=None, use_multiscale_discriminator=False, use_supervised_learning=False, REAL_LABEL=1.0):\n",
    "\n",
    "    trainA_path = os.path.join('data', subfolder, 'trainA')\n",
    "    trainB_path = os.path.join('data', subfolder, 'trainB')\n",
    "    testA_path = os.path.join('data', subfolder, 'testA')\n",
    "    testB_path = os.path.join('data', subfolder, 'testB')\n",
    "\n",
    "    trainA_image_names = os.listdir(trainA_path)\n",
    "    if nr_A_train_imgs != None:\n",
    "        trainA_image_names = trainA_image_names[:nr_A_train_imgs]\n",
    "\n",
    "    trainB_image_names = os.listdir(trainB_path)\n",
    "    if nr_B_train_imgs != None:\n",
    "        trainB_image_names = trainB_image_names[:nr_B_train_imgs]\n",
    "\n",
    "    testA_image_names = os.listdir(testA_path)\n",
    "    if nr_A_test_imgs != None:\n",
    "        testA_image_names = testA_image_names[:nr_A_test_imgs]\n",
    "\n",
    "    testB_image_names = os.listdir(testB_path)\n",
    "    if nr_B_test_imgs != None:\n",
    "        testB_image_names = testB_image_names[:nr_B_test_imgs]\n",
    "\n",
    "    if generator:\n",
    "        return data_sequence(trainA_path, trainB_path, trainA_image_names, trainB_image_names, batch_size=batch_size)  # D_model, use_multiscale_discriminator, use_supervised_learning, REAL_LABEL)\n",
    "    else:\n",
    "        trainA_images = create_image_array(trainA_image_names, trainA_path, nr_of_channels)\n",
    "        trainB_images = create_image_array(trainB_image_names, trainB_path, nr_of_channels)\n",
    "        testA_images = create_image_array(testA_image_names, testA_path, nr_of_channels)\n",
    "        testB_images = create_image_array(testB_image_names, testB_path, nr_of_channels)\n",
    "        return {\"trainA_images\": trainA_images, \"trainB_images\": trainB_images,\n",
    "                \"testA_images\": testA_images, \"testB_images\": testB_images,\n",
    "                \"trainA_image_names\": trainA_image_names,\n",
    "                \"trainB_image_names\": trainB_image_names,\n",
    "                \"testA_image_names\": testA_image_names,\n",
    "                \"testB_image_names\": testB_image_names}\n",
    "\n",
    "\n",
    "def create_image_array(image_list, image_path, nr_of_channels):\n",
    "    image_array = []\n",
    "    for image_name in image_list:\n",
    "        if image_name[-1].lower() == 'g':  # to avoid e.g. thumbs.db files\n",
    "            if nr_of_channels == 1:  # Gray scale image -> MR image\n",
    "                image = np.array(Image.open(os.path.join(image_path, image_name)))\n",
    "                image = image[:, :, np.newaxis]\n",
    "            else:                   # RGB image -> 3 channels\n",
    "                image = np.array(Image.open(os.path.join(image_path, image_name)))\n",
    "            image = normalize_array(image)\n",
    "            image_array.append(image)\n",
    "\n",
    "    return np.array(image_array)\n",
    "  \n",
    "  \n",
    "  # If using 16 bit depth images, use the formula 'array = array / 32767.5 - 1' instead\n",
    "def normalize_array(array):\n",
    "    array = array / 127.5 - 1\n",
    "    return array\n",
    "\n",
    "\n",
    "class data_sequence(Sequence):\n",
    "\n",
    "    def __init__(self, trainA_path, trainB_path, image_list_A, image_list_B, batch_size=1):  # , D_model, use_multiscale_discriminator, use_supervised_learning, REAL_LABEL):\n",
    "        self.batch_size = batch_size\n",
    "        self.train_A = []\n",
    "        self.train_B = []\n",
    "        for image_name in image_list_A:\n",
    "            if image_name[-1].lower() == 'g':  # to avoid e.g. thumbs.db files\n",
    "                self.train_A.append(os.path.join(trainA_path, image_name))\n",
    "        for image_name in image_list_B:\n",
    "            if image_name[-1].lower() == 'g':  # to avoid e.g. thumbs.db files\n",
    "                self.train_B.append(os.path.join(trainB_path, image_name))\n",
    "\n",
    "    def __len__(self):\n",
    "        return int(max(len(self.train_A), len(self.train_B)) / float(self.batch_size))\n",
    "\n",
    "    def __getitem__(self, idx):  # , use_multiscale_discriminator, use_supervised_learning):if loop_index + batch_size >= min_nr_imgs:\n",
    "        if idx >= min(len(self.train_A), len(self.train_B)):\n",
    "            # If all images soon are used for one domain,\n",
    "            # randomly pick from this domain\n",
    "            if len(self.train_A) <= len(self.train_B):\n",
    "                indexes_A = np.random.randint(len(self.train_A), size=self.batch_size)\n",
    "                batch_A = []\n",
    "                for i in indexes_A:\n",
    "                    batch_A.append(self.train_A[i])\n",
    "                batch_B = self.train_B[idx * self.batch_size:(idx + 1) * self.batch_size]\n",
    "            else:\n",
    "                indexes_B = np.random.randint(len(self.train_B), size=self.batch_size)\n",
    "                batch_B = []\n",
    "                for i in indexes_B:\n",
    "                    batch_B.append(self.train_B[i])\n",
    "                batch_A = self.train_A[idx * self.batch_size:(idx + 1) * self.batch_size]\n",
    "        else:\n",
    "            batch_A = self.train_A[idx * self.batch_size:(idx + 1) * self.batch_size]\n",
    "            batch_B = self.train_B[idx * self.batch_size:(idx + 1) * self.batch_size]\n",
    "\n",
    "        real_images_A = create_image_array(batch_A, '', 3)\n",
    "        real_images_B = create_image_array(batch_B, '', 3)\n",
    "\n",
    "        return real_images_A, real_images_B  # input_data, target_data"
   ]
  },
  {
   "cell_type": "code",
   "execution_count": null,
   "id": "5dbccb94-3aea-4a8d-a84f-50d6e4a7c580",
   "metadata": {},
   "outputs": [],
   "source": [
    "def extractInformation(image):\n",
    "    cv2\n",
    "    return"
   ]
  },
  {
   "cell_type": "raw",
   "id": "393b2549-e879-4988-86ec-a032e6a90bd6",
   "metadata": {},
   "source": [
    "import sys\n",
    "import pathlib\n",
    "from uuid import uuid4\n",
    "\n",
    "import numpy as np\n",
    "import pydicom\n",
    "from pydicom import errors\n",
    "from PIL import Image\n",
    "\n",
    "\n",
    "# Attempting to use mkl_fft (faster FFT library for Intel CPUs). Fallback is np\n",
    "try:\n",
    "    import mkl_fft as m\n",
    "\n",
    "    fft2 = m.fft2\n",
    "    ifft2 = m.ifft2\n",
    "except (ModuleNotFoundError, ImportError):\n",
    "    fft2 = np.fft.fft2\n",
    "    ifft2 = np.fft.ifft2\n",
    "finally:\n",
    "    fftshift = np.fft.fftshift\n",
    "    ifftshift = np.fft.ifftshift\n",
    "\n",
    "\n",
    "def open_file(path: str, dtype: np.dtype = np.float32) -> np.ndarray:\n",
    "    \"\"\"Tries to load image data into a NumPy ndarray\n",
    "    The function first tries to use the PIL Image library to identify and load\n",
    "    the image. PIL will convert the image to 8-bit pixels, black and white.\n",
    "    If PIL fails pydicom is the next choice.\n",
    "    Parameters:\n",
    "        path (str): The image file location\n",
    "        dtype (np.dtype): image array dtype (eg. np.float64)\n",
    "    Returns:\n",
    "        np.ndarray: a floating point NumPy ndarray of the specified dtype\n",
    "    \"\"\"\n",
    "\n",
    "    try:\n",
    "        with Image.open(path) as f:\n",
    "            img_file = f.convert('F')  # 'F' mode: 32-bit floating point pixels\n",
    "            img_pixel_array = np.array(img_file).astype(dtype)\n",
    "        return img_pixel_array\n",
    "    except FileNotFoundError:\n",
    "        raise\n",
    "    except OSError:\n",
    "        try:\n",
    "            with pydicom.dcmread(path) as dcm_file:\n",
    "                img_pixel_array = dcm_file.pixel_array.astype(dtype)\n",
    "            img_pixel_array.setflags(write=True)\n",
    "            return img_pixel_array\n",
    "        except errors.InvalidDicomError:\n",
    "            try:\n",
    "                raw_data = np.load(path)\n",
    "                return raw_data\n",
    "            except Exception as e:\n",
    "                raise e\n"
   ]
  },
  {
   "cell_type": "code",
   "execution_count": 1,
   "id": "c6cbf42c-54f7-4bf0-94fa-0af9c2503449",
   "metadata": {},
   "outputs": [
    {
     "name": "stderr",
     "output_type": "stream",
     "text": [
      "/Users/hoangvo/opt/anaconda3/envs/coursework/lib/python3.7/site-packages/ipykernel_launcher.py:14: ComplexWarning: Casting complex values to real discards the imaginary part\n",
      "  \n"
     ]
    },
    {
     "data": {
      "text/plain": [
       "[<matplotlib.lines.Line2D at 0x7fba3a79a590>]"
      ]
     },
     "execution_count": 1,
     "metadata": {},
     "output_type": "execute_result"
    },
    {
     "data": {
      "image/png": "[encoded data removed]",
      "text/plain": [
       "<Figure size 432x288 with 1 Axes>"
      ]
     },
     "metadata": {
      "needs_background": "light"
     },
     "output_type": "display_data"
    }
   ],
   "source": [
    "import numpy as np\n",
    "import matplotlib.pyplot as plt\n",
    "\n",
    "mx = np.zeros([256,1])\n",
    "mx[96:128+32] = 1\n",
    "plt.plot(mx)\n",
    "\n",
    "ksp = np.fft.fft(mx,axis=0)\n",
    "plt.plot(np.abs(ksp))\n",
    "\n",
    "k = np.zeros(ksp.shape);\n",
    "\n",
    "# voxel #2 and #3 were mis-placed using an imperfect gradient \n",
    "k[3] = ksp[3]+ksp[2]; \n",
    "\n",
    "rec = np.fft.ifft(k,axis=0);\n",
    "phase = np.angle(rec)\n",
    "# it's a straight line after unwrapping\n",
    "plt.plot(np.angle(rec)) "
   ]
  },
  {
   "cell_type": "code",
   "execution_count": null,
   "id": "dc85b8ae-20f7-42ff-bf06-9eeb0f0a34a7",
   "metadata": {},
   "outputs": [],
   "source": [
    "import pydicom as dicom\n",
    "import PIL # optional\n",
    "import pandas as pd\n",
    "import matplotlib.pyplot as plt\n",
    "\n",
    "# specify your image path\n",
    "image_path = 'xray.dcm'\n",
    "ds = dicom.dcmread(image_path)\n",
    "plt.imshow( ds.pixel_array)\n",
    "\n",
    "plt.show()"
   ]
  },
  {
   "cell_type": "raw",
   "id": "95f33441-22eb-4ceb-91a0-a92a0ab97a67",
   "metadata": {},
   "source": [
    "import pydicom as dicom\n",
    "import os\n",
    "import PIL # optional\n",
    "import pandas as pd\n",
    "import csv\n",
    "# list of attributes available in dicom image\n",
    "# download this file from the given github link\n",
    "dicom_image_description = pd.read_csv(\"dicom_image_description.csv\")\n",
    "# Specify the .dcm folder path\n",
    "folder_path = \"stage_1_test_images\"\n",
    "images_path = os.listdir(folder_path)\n",
    "# Patient's information will be stored in working directory #'Patient_Detail.csv'\n",
    "with open('Patient_Detail.csv', 'w', newline ='') as csvfile:\n",
    "    fieldnames = list(dicom_image_description[\"Description\"])\n",
    "    writer = csv.writer(csvfile, delimiter=',')\n",
    "    writer.writerow(fieldnames)\n",
    "    for n, image in enumerate(images_path):\n",
    "        ds = dicom.dcmread(os.path.join(folder_path, image))\n",
    "        rows = []\n",
    "        for field in fieldnames:\n",
    "            if ds.data_element(field) is None:\n",
    "                rows.append('')\n",
    "            else:\n",
    "                x = str(ds.data_element(field)).replace(\"'\", \"\")\n",
    "                y = x.find(\":\")\n",
    "                x = x[y+2:]\n",
    "                rows.append(x)\n",
    "        writer.writerow(rows)"
   ]
  },
  {
   "cell_type": "markdown",
   "id": "0152563a-4232-46b2-bc6e-15e8a2376be0",
   "metadata": {},
   "source": []
  },
  {
   "cell_type": "code",
   "execution_count": null,
   "id": "14e1cf42-8373-4ea4-a25a-4510203b87c8",
   "metadata": {},
   "outputs": [],
   "source": []
  },
  {
   "cell_type": "raw",
   "id": "e662e182-7219-407f-b4ac-48bd19821054",
   "metadata": {},
   "source": [
    "2. Remove some of the region of K-Space and destroy the image"
   ]
  },
  {
   "cell_type": "code",
   "execution_count": null,
   "id": "8dd8fc22-d258-4721-8365-d5a5cd73e7d3",
   "metadata": {},
   "outputs": [],
   "source": []
  },
  {
   "cell_type": "raw",
   "id": "eda16910-1d9b-4248-8860-0ec0fac1f1bf",
   "metadata": {},
   "source": [
    "3. Use the destroyed image to reconstruct the original image using deep neural networks"
   ]
  },
  {
   "cell_type": "raw",
   "id": "07a9b336-7f59-4e95-a9d1-81c077388a72",
   "metadata": {},
   "source": [
    "https://stackabuse.com/autoencoders-for-image-reconstruction-in-python-and-keras/\n",
    "\n",
    "https://towardsdatascience.com/convolution-neural-network-for-image-processing-using-keras-dc3429056306\n",
    "\n",
    "https://github.com/js3611/Deep-MRI-Reconstruction"
   ]
  },
  {
   "cell_type": "code",
   "execution_count": null,
   "id": "fd3a9500-6804-4998-8ce3-f817f8e4952c",
   "metadata": {},
   "outputs": [],
   "source": []
  }
 ],
 "metadata": {
  "kernelspec": {
   "display_name": "Python 3 (ipykernel)",
   "language": "python",
   "name": "python3"
  },
  "language_info": {
   "codemirror_mode": {
    "name": "ipython",
    "version": 3
   },
   "file_extension": ".py",
   "mimetype": "text/x-python",
   "name": "python",
   "nbconvert_exporter": "python",
   "pygments_lexer": "ipython3",
   "version": "3.7.10"
  }
 },
 "nbformat": 4,
 "nbformat_minor": 5
}
