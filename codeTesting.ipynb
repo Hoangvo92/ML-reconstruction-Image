{
 "cells": [
  {
   "cell_type": "markdown",
   "id": "b348c738-5676-44cb-ae94-c6f9a2810265",
   "metadata": {},
   "source": [
    "# Machine Learning- reconstruct Image from partial/incomplete image"
   ]
  },
  {
   "cell_type": "raw",
   "id": "19a9d273-16b9-41c9-a95f-1c15a875adf5",
   "metadata": {},
   "source": [
    "https://github.com/simontomaskarlsson/GAN-MRI\n",
    "\n",
    "https://github.com/puneesh00/cs-mri-gan\n",
    "\n",
    "https://towardsdatascience.com/generative-adversarial-network-gan-for-dummies-a-step-by-step-tutorial-fdefff170391\n",
    "\n",
    "https://medium.com/howtoai/gan-for-medical-imaging-generating-images-and-annotations-8ad7c778809c\n",
    "\n",
    "\n",
    "https://github.com/birogeri/kspace-explorer\n",
    "\n",
    "\n",
    "https://medium.com/@vivek8981/dicom-to-jpg-and-extract-all-patients-information-using-python-5e6dd1f1a07d"
   ]
  },
  {
   "cell_type": "raw",
   "id": "8bb1f397-0fed-4610-8414-e619719cb356",
   "metadata": {},
   "source": [
    "conda install -c bioconda medpy\n",
    "conda install -c conda-forge nibabel"
   ]
  },
  {
   "cell_type": "code",
   "execution_count": null,
   "id": "00379251-4592-4c14-8cf6-46af2ab618eb",
   "metadata": {},
   "outputs": [],
   "source": []
  },
  {
   "cell_type": "code",
   "execution_count": null,
   "id": "1d4597d8-f02e-41a3-b2e0-9bcdf5214982",
   "metadata": {},
   "outputs": [],
   "source": []
  },
  {
   "cell_type": "code",
   "execution_count": null,
   "id": "50d8dc33-e593-4bb6-9896-efacc2aa0486",
   "metadata": {},
   "outputs": [],
   "source": []
  },
  {
   "cell_type": "code",
   "execution_count": null,
   "id": "0654ab55-34ac-4552-b769-6d985ad316e2",
   "metadata": {},
   "outputs": [],
   "source": [
    "import numpy as np\n",
    "import pandas as pd\n",
    "import matplotlib.pyplot as plt\n",
    "import seaborn as sns\n",
    "import cv2"
   ]
  },
  {
   "cell_type": "code",
   "execution_count": null,
   "id": "995621a2-ef6a-4d94-98da-15f7f13240f8",
   "metadata": {},
   "outputs": [],
   "source": [
    "from keras.layers import Layer, Input, Conv2D, Activation, add, BatchNormalization, UpSampling2D, ZeroPadding2D, Conv2DTranspose, Flatten, MaxPooling2D, AveragePooling2D\n",
    "from keras_contrib.layers.normalization import InstanceNormalization, InputSpec\n",
    "from keras.layers.advanced_activations import LeakyReLU\n",
    "from keras.layers.core import Dense\n",
    "from keras.optimizers import Adam\n",
    "from keras.backend import mean\n",
    "from keras.models import Model, model_from_json\n",
    "from keras.utils import plot_model\n",
    "from keras.engine.topology import Container\n",
    "\n",
    "from collections import OrderedDict\n",
    "from scipy.misc import imsave, toimage  # has depricated\n",
    "import numpy as np\n",
    "import random\n",
    "import datetime\n",
    "import time\n",
    "import json\n",
    "import math\n",
    "import csv\n",
    "import sys\n",
    "import os\n",
    "\n",
    "import keras.backend as K\n",
    "import tensorflow as tf"
   ]
  },
  {
   "cell_type": "raw",
   "id": "0b92a1ad-7314-47d1-93c4-7310f2b47d28",
   "metadata": {},
   "source": [
    "1. Collect K-Space for medical Images (MRI preferred)\n",
    "\n",
    "2. Remove some of the region of K-Space and destroy the image\n",
    "\n",
    "3. Use the destroyed image to reconstruct the original image using deep neural networks\n",
    "\n",
    "4. Define evaluation metrics\n",
    "\n",
    "5. Analyze the quality of your reconstructio"
   ]
  },
  {
   "cell_type": "markdown",
   "id": "f24fcbca-4fc9-4b25-889a-4ae2bb85d39d",
   "metadata": {},
   "source": [
    "## 1/ Extract information from incomplete image"
   ]
  },
  {
   "cell_type": "raw",
   "id": "52da2f7f-ba93-4d34-bf16-47f0313f9365",
   "metadata": {},
   "source": [
    "Citation, DOI and article data\n",
    "k-space is an abstract concept and refers to a data matrix containing the raw MRI data. This data is subjected to mathematical function or formula called a transform to generate the final image. A discrete Fourier or fast Fourier transform 1-3 is generally used though other transforms such as the Hartley 4 can also work."
   ]
  },
  {
   "cell_type": "code",
   "execution_count": null,
   "id": "4372d201-d4ed-4957-905b-3a87df2d8dcc",
   "metadata": {},
   "outputs": [],
   "source": [
    "import numpy as np\n",
    "from numpy.fft import fftshift, ifftshift, fftn, ifftn\n",
    "\n",
    "def transform_kspace_to_image(k, dim=None, img_shape=None):\n",
    "    \"\"\" Computes the Fourier transform from k-space to image space\n",
    "    along a given or all dimensions\n",
    "    :param k: k-space data\n",
    "    :param dim: vector of dimensions to transform\n",
    "    :param img_shape: desired shape of output image\n",
    "    :returns: data in image space (along transformed dimensions)\n",
    "    \"\"\"\n",
    "    if not dim:\n",
    "        dim = range(k.ndim)\n",
    "\n",
    "    img = fftshift(ifftn(ifftshift(k, axes=dim), s=img_shape, axes=dim), axes=dim)\n",
    "    img *= np.sqrt(np.prod(np.take(img.shape, dim)))\n",
    "    return img\n",
    "\n",
    "\n",
    "def transform_image_to_kspace(img, dim=None, k_shape=None):\n",
    "    \"\"\" Computes the Fourier transform from image space to k-space space\n",
    "    along a given or all dimensions\n",
    "    :param img: image space data\n",
    "    :param dim: vector of dimensions to transform\n",
    "    :param k_shape: desired shape of output k-space data\n",
    "    :returns: data in k-space (along transformed dimensions)\n",
    "    \"\"\"\n",
    "    if not dim:\n",
    "        dim = range(img.ndim)\n",
    "\n",
    "    k = fftshift(fftn(ifftshift(img, axes=dim), s=k_shape, axes=dim), axes=dim)\n",
    "    k /= np.sqrt(np.prod(np.take(img.shape, dim)))\n",
    "    return k"
   ]
  },
  {
   "cell_type": "code",
   "execution_count": null,
   "id": "0a5c3e22-3bac-4bc3-bde8-63218076067c",
   "metadata": {},
   "outputs": [],
   "source": [
    "import nibabel as nib\n",
    "import numpy as np"
   ]
  },
  {
   "cell_type": "code",
   "execution_count": null,
   "id": "73f6ea09-df3e-4b68-ba6c-8da4b70cdb99",
   "metadata": {},
   "outputs": [],
   "source": [
    "image = nib.load"
   ]
  },
  {
   "cell_type": "code",
   "execution_count": null,
   "id": "4b7c32d2-3104-4317-b7c5-72067adba2e3",
   "metadata": {},
   "outputs": [],
   "source": []
  },
  {
   "cell_type": "code",
   "execution_count": null,
   "id": "22a8ff89-c7d9-4ae1-922f-6b8e80c9df19",
   "metadata": {},
   "outputs": [],
   "source": []
  },
  {
   "cell_type": "code",
   "execution_count": null,
   "id": "1326da13-6e7e-4985-a97e-81e046c8e16a",
   "metadata": {},
   "outputs": [],
   "source": []
  },
  {
   "cell_type": "code",
   "execution_count": null,
   "id": "bc0b8cbb-c4fe-4966-a52f-b9d6facca281",
   "metadata": {},
   "outputs": [],
   "source": []
  },
  {
   "cell_type": "code",
   "execution_count": null,
   "id": "1f6c0427-a9ca-4b77-913f-b786eda1c925",
   "metadata": {},
   "outputs": [],
   "source": [
    "import os\n",
    "import numpy as np\n",
    "from PIL import Image\n",
    "from keras.utils import Sequence\n",
    "#from skimage.io import imread\n",
    "\n",
    "\n",
    "def load_data(nr_of_channels, batch_size=1, nr_A_train_imgs=None, nr_B_train_imgs=None,\n",
    "              nr_A_test_imgs=None, nr_B_test_imgs=None, subfolder='',\n",
    "              generator=False, D_model=None, use_multiscale_discriminator=False, use_supervised_learning=False, REAL_LABEL=1.0):\n",
    "\n",
    "    trainA_path = os.path.join('data', subfolder, 'trainA')\n",
    "    trainB_path = os.path.join('data', subfolder, 'trainB')\n",
    "    testA_path = os.path.join('data', subfolder, 'testA')\n",
    "    testB_path = os.path.join('data', subfolder, 'testB')\n",
    "\n",
    "    trainA_image_names = os.listdir(trainA_path)\n",
    "    if nr_A_train_imgs != None:\n",
    "        trainA_image_names = trainA_image_names[:nr_A_train_imgs]\n",
    "\n",
    "    trainB_image_names = os.listdir(trainB_path)\n",
    "    if nr_B_train_imgs != None:\n",
    "        trainB_image_names = trainB_image_names[:nr_B_train_imgs]\n",
    "\n",
    "    testA_image_names = os.listdir(testA_path)\n",
    "    if nr_A_test_imgs != None:\n",
    "        testA_image_names = testA_image_names[:nr_A_test_imgs]\n",
    "\n",
    "    testB_image_names = os.listdir(testB_path)\n",
    "    if nr_B_test_imgs != None:\n",
    "        testB_image_names = testB_image_names[:nr_B_test_imgs]\n",
    "\n",
    "    if generator:\n",
    "        return data_sequence(trainA_path, trainB_path, trainA_image_names, trainB_image_names, batch_size=batch_size)  # D_model, use_multiscale_discriminator, use_supervised_learning, REAL_LABEL)\n",
    "    else:\n",
    "        trainA_images = create_image_array(trainA_image_names, trainA_path, nr_of_channels)\n",
    "        trainB_images = create_image_array(trainB_image_names, trainB_path, nr_of_channels)\n",
    "        testA_images = create_image_array(testA_image_names, testA_path, nr_of_channels)\n",
    "        testB_images = create_image_array(testB_image_names, testB_path, nr_of_channels)\n",
    "        return {\"trainA_images\": trainA_images, \"trainB_images\": trainB_images,\n",
    "                \"testA_images\": testA_images, \"testB_images\": testB_images,\n",
    "                \"trainA_image_names\": trainA_image_names,\n",
    "                \"trainB_image_names\": trainB_image_names,\n",
    "                \"testA_image_names\": testA_image_names,\n",
    "                \"testB_image_names\": testB_image_names}\n",
    "\n",
    "\n",
    "def create_image_array(image_list, image_path, nr_of_channels):\n",
    "    image_array = []\n",
    "    for image_name in image_list:\n",
    "        if image_name[-1].lower() == 'g':  # to avoid e.g. thumbs.db files\n",
    "            if nr_of_channels == 1:  # Gray scale image -> MR image\n",
    "                image = np.array(Image.open(os.path.join(image_path, image_name)))\n",
    "                image = image[:, :, np.newaxis]\n",
    "            else:                   # RGB image -> 3 channels\n",
    "                image = np.array(Image.open(os.path.join(image_path, image_name)))\n",
    "            image = normalize_array(image)\n",
    "            image_array.append(image)\n",
    "\n",
    "    return np.array(image_array)\n",
    "  \n",
    "  \n",
    "  # If using 16 bit depth images, use the formula 'array = array / 32767.5 - 1' instead\n",
    "def normalize_array(array):\n",
    "    array = array / 127.5 - 1\n",
    "    return array\n",
    "\n",
    "\n",
    "class data_sequence(Sequence):\n",
    "\n",
    "    def __init__(self, trainA_path, trainB_path, image_list_A, image_list_B, batch_size=1):  # , D_model, use_multiscale_discriminator, use_supervised_learning, REAL_LABEL):\n",
    "        self.batch_size = batch_size\n",
    "        self.train_A = []\n",
    "        self.train_B = []\n",
    "        for image_name in image_list_A:\n",
    "            if image_name[-1].lower() == 'g':  # to avoid e.g. thumbs.db files\n",
    "                self.train_A.append(os.path.join(trainA_path, image_name))\n",
    "        for image_name in image_list_B:\n",
    "            if image_name[-1].lower() == 'g':  # to avoid e.g. thumbs.db files\n",
    "                self.train_B.append(os.path.join(trainB_path, image_name))\n",
    "\n",
    "    def __len__(self):\n",
    "        return int(max(len(self.train_A), len(self.train_B)) / float(self.batch_size))\n",
    "\n",
    "    def __getitem__(self, idx):  # , use_multiscale_discriminator, use_supervised_learning):if loop_index + batch_size >= min_nr_imgs:\n",
    "        if idx >= min(len(self.train_A), len(self.train_B)):\n",
    "            # If all images soon are used for one domain,\n",
    "            # randomly pick from this domain\n",
    "            if len(self.train_A) <= len(self.train_B):\n",
    "                indexes_A = np.random.randint(len(self.train_A), size=self.batch_size)\n",
    "                batch_A = []\n",
    "                for i in indexes_A:\n",
    "                    batch_A.append(self.train_A[i])\n",
    "                batch_B = self.train_B[idx * self.batch_size:(idx + 1) * self.batch_size]\n",
    "            else:\n",
    "                indexes_B = np.random.randint(len(self.train_B), size=self.batch_size)\n",
    "                batch_B = []\n",
    "                for i in indexes_B:\n",
    "                    batch_B.append(self.train_B[i])\n",
    "                batch_A = self.train_A[idx * self.batch_size:(idx + 1) * self.batch_size]\n",
    "        else:\n",
    "            batch_A = self.train_A[idx * self.batch_size:(idx + 1) * self.batch_size]\n",
    "            batch_B = self.train_B[idx * self.batch_size:(idx + 1) * self.batch_size]\n",
    "\n",
    "        real_images_A = create_image_array(batch_A, '', 3)\n",
    "        real_images_B = create_image_array(batch_B, '', 3)\n",
    "\n",
    "        return real_images_A, real_images_B  # input_data, target_data"
   ]
  },
  {
   "cell_type": "code",
   "execution_count": null,
   "id": "5dbccb94-3aea-4a8d-a84f-50d6e4a7c580",
   "metadata": {},
   "outputs": [],
   "source": [
    "def extractInformation(image):\n",
    "    cv2\n",
    "    return"
   ]
  },
  {
   "cell_type": "raw",
   "id": "393b2549-e879-4988-86ec-a032e6a90bd6",
   "metadata": {},
   "source": [
    "import sys\n",
    "import pathlib\n",
    "from uuid import uuid4\n",
    "\n",
    "import numpy as np\n",
    "import pydicom\n",
    "from pydicom import errors\n",
    "from PIL import Image\n",
    "\n",
    "\n",
    "# Attempting to use mkl_fft (faster FFT library for Intel CPUs). Fallback is np\n",
    "try:\n",
    "    import mkl_fft as m\n",
    "\n",
    "    fft2 = m.fft2\n",
    "    ifft2 = m.ifft2\n",
    "except (ModuleNotFoundError, ImportError):\n",
    "    fft2 = np.fft.fft2\n",
    "    ifft2 = np.fft.ifft2\n",
    "finally:\n",
    "    fftshift = np.fft.fftshift\n",
    "    ifftshift = np.fft.ifftshift\n",
    "\n",
    "\n",
    "def open_file(path: str, dtype: np.dtype = np.float32) -> np.ndarray:\n",
    "    \"\"\"Tries to load image data into a NumPy ndarray\n",
    "    The function first tries to use the PIL Image library to identify and load\n",
    "    the image. PIL will convert the image to 8-bit pixels, black and white.\n",
    "    If PIL fails pydicom is the next choice.\n",
    "    Parameters:\n",
    "        path (str): The image file location\n",
    "        dtype (np.dtype): image array dtype (eg. np.float64)\n",
    "    Returns:\n",
    "        np.ndarray: a floating point NumPy ndarray of the specified dtype\n",
    "    \"\"\"\n",
    "\n",
    "    try:\n",
    "        with Image.open(path) as f:\n",
    "            img_file = f.convert('F')  # 'F' mode: 32-bit floating point pixels\n",
    "            img_pixel_array = np.array(img_file).astype(dtype)\n",
    "        return img_pixel_array\n",
    "    except FileNotFoundError:\n",
    "        raise\n",
    "    except OSError:\n",
    "        try:\n",
    "            with pydicom.dcmread(path) as dcm_file:\n",
    "                img_pixel_array = dcm_file.pixel_array.astype(dtype)\n",
    "            img_pixel_array.setflags(write=True)\n",
    "            return img_pixel_array\n",
    "        except errors.InvalidDicomError:\n",
    "            try:\n",
    "                raw_data = np.load(path)\n",
    "                return raw_data\n",
    "            except Exception as e:\n",
    "                raise e\n"
   ]
  },
  {
   "cell_type": "code",
   "execution_count": 1,
   "id": "c6cbf42c-54f7-4bf0-94fa-0af9c2503449",
   "metadata": {},
   "outputs": [
    {
     "name": "stderr",
     "output_type": "stream",
     "text": [
      "/Users/hoangvo/opt/anaconda3/envs/coursework/lib/python3.7/site-packages/ipykernel_launcher.py:14: ComplexWarning: Casting complex values to real discards the imaginary part\n",
      "  \n"
     ]
    },
    {
     "data": {
      "text/plain": [
       "[<matplotlib.lines.Line2D at 0x7fba3a79a590>]"
      ]
     },
     "execution_count": 1,
     "metadata": {},
     "output_type": "execute_result"
    },
    {
     "data": {
      "image/png": "[encoded data removed]",
      "text/plain": [
       "<Figure size 432x288 with 1 Axes>"
      ]
     },
     "metadata": {
      "needs_background": "light"
     },
     "output_type": "display_data"
    }
   ],
   "source": [
    "import numpy as np\n",
    "import matplotlib.pyplot as plt\n",
    "\n",
    "mx = np.zeros([256,1])\n",
    "mx[96:128+32] = 1\n",
    "plt.plot(mx)\n",
    "\n",
    "ksp = np.fft.fft(mx,axis=0)\n",
    "plt.plot(np.abs(ksp))\n",
    "\n",
    "k = np.zeros(ksp.shape);\n",
    "\n",
    "# voxel #2 and #3 were mis-placed using an imperfect gradient \n",
    "k[3] = ksp[3]+ksp[2]; \n",
    "\n",
    "rec = np.fft.ifft(k,axis=0);\n",
    "phase = np.angle(rec)\n",
    "# it's a straight line after unwrapping\n",
    "plt.plot(np.angle(rec)) "
   ]
  },
  {
   "cell_type": "code",
   "execution_count": null,
   "id": "dc85b8ae-20f7-42ff-bf06-9eeb0f0a34a7",
   "metadata": {},
   "outputs": [],
   "source": [
    "import pydicom as dicom\n",
    "import PIL # optional\n",
    "import pandas as pd\n",
    "import matplotlib.pyplot as plt\n",
    "\n",
    "# specify your image path\n",
    "image_path = 'xray.dcm'\n",
    "ds = dicom.dcmread(image_path)\n",
    "plt.imshow( ds.pixel_array)\n",
    "\n",
    "plt.show()"
   ]
  },
  {
   "cell_type": "raw",
   "id": "95f33441-22eb-4ceb-91a0-a92a0ab97a67",
   "metadata": {},
   "source": [
    "import pydicom as dicom\n",
    "import os\n",
    "import PIL # optional\n",
    "import pandas as pd\n",
    "import csv\n",
    "# list of attributes available in dicom image\n",
    "# download this file from the given github link\n",
    "dicom_image_description = pd.read_csv(\"dicom_image_description.csv\")\n",
    "# Specify the .dcm folder path\n",
    "folder_path = \"stage_1_test_images\"\n",
    "images_path = os.listdir(folder_path)\n",
    "# Patient's information will be stored in working directory #'Patient_Detail.csv'\n",
    "with open('Patient_Detail.csv', 'w', newline ='') as csvfile:\n",
    "    fieldnames = list(dicom_image_description[\"Description\"])\n",
    "    writer = csv.writer(csvfile, delimiter=',')\n",
    "    writer.writerow(fieldnames)\n",
    "    for n, image in enumerate(images_path):\n",
    "        ds = dicom.dcmread(os.path.join(folder_path, image))\n",
    "        rows = []\n",
    "        for field in fieldnames:\n",
    "            if ds.data_element(field) is None:\n",
    "                rows.append('')\n",
    "            else:\n",
    "                x = str(ds.data_element(field)).replace(\"'\", \"\")\n",
    "                y = x.find(\":\")\n",
    "                x = x[y+2:]\n",
    "                rows.append(x)\n",
    "        writer.writerow(rows)"
   ]
  },
  {
   "cell_type": "markdown",
   "id": "0152563a-4232-46b2-bc6e-15e8a2376be0",
   "metadata": {},
   "source": []
  },
  {
   "cell_type": "code",
   "execution_count": null,
   "id": "14e1cf42-8373-4ea4-a25a-4510203b87c8",
   "metadata": {},
   "outputs": [],
   "source": []
  },
  {
   "cell_type": "raw",
   "id": "e662e182-7219-407f-b4ac-48bd19821054",
   "metadata": {},
   "source": [
    "2. Remove some of the region of K-Space and destroy the image"
   ]
  },
  {
   "cell_type": "code",
   "execution_count": null,
   "id": "8dd8fc22-d258-4721-8365-d5a5cd73e7d3",
   "metadata": {},
   "outputs": [],
   "source": []
  },
  {
   "cell_type": "raw",
   "id": "eda16910-1d9b-4248-8860-0ec0fac1f1bf",
   "metadata": {},
   "source": [
    "3. Use the destroyed image to reconstruct the original image using deep neural networks"
   ]
  },
  {
   "cell_type": "code",
   "execution_count": null,
   "id": "4c995c74-2d38-48a8-a42b-ecf7d0163b80",
   "metadata": {},
   "outputs": [],
   "source": []
  },
  {
   "cell_type": "code",
   "execution_count": null,
   "id": "fd3a9500-6804-4998-8ce3-f817f8e4952c",
   "metadata": {},
   "outputs": [],
   "source": []
  }
 ],
 "metadata": {
  "kernelspec": {
   "display_name": "Python 3 (ipykernel)",
   "language": "python",
   "name": "python3"
  },
  "language_info": {
   "codemirror_mode": {
    "name": "ipython",
    "version": 3
   },
   "file_extension": ".py",
   "mimetype": "text/x-python",
   "name": "python",
   "nbconvert_exporter": "python",
   "pygments_lexer": "ipython3",
   "version": "3.7.10"
  }
 },
 "nbformat": 4,
 "nbformat_minor": 5
}
