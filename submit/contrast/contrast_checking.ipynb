{
 "cells": [
  {
   "cell_type": "code",
   "execution_count": 14,
   "id": "1090e5e9-08bc-489b-9318-a82eb481046e",
   "metadata": {},
   "outputs": [],
   "source": [
    "from PIL import Image, ImageStat\n",
    "import os.path\n",
    "\n"
   ]
  },
  {
   "cell_type": "code",
   "execution_count": 20,
   "id": "f90db9ed-7cb7-4aaf-840d-d91cec481f29",
   "metadata": {},
   "outputs": [
    {
     "name": "stdout",
     "output_type": "stream",
     "text": [
      "Band: L, min/max: (0, 160), stddev: 79.55277307209784\n"
     ]
    }
   ],
   "source": [
    "\n",
    "#script_dir = os.path.dirname(os.path.abspath(__file__))\n",
    "#im = Image.open(os.path.join(script_dir, './753.jpg'))\n",
    "# Load image\n",
    "im = Image.open(\"contrast/753.png\")\n",
    "\n",
    "# Calculate statistics\n",
    "stats = ImageStat.Stat(im)                                                                 \n",
    "\n",
    "for band,name in enumerate(im.getbands()): \n",
    "    print(f'Band: {name}, min/max: {stats.extrema[band]}, stddev: {stats.stddev[band]}')"
   ]
  },
  {
   "cell_type": "code",
   "execution_count": 21,
   "id": "dc16bc53-f7b9-44fe-a037-c3740c1f052f",
   "metadata": {},
   "outputs": [
    {
     "name": "stdout",
     "output_type": "stream",
     "text": [
      "Band: L, min/max: (0, 255), stddev: 27.448972175655605\n"
     ]
    }
   ],
   "source": [
    "\n",
    "#script_dir = os.path.dirname(os.path.abspath(__file__))\n",
    "#im = Image.open(os.path.join(script_dir, './753.jpg'))\n",
    "# Load image\n",
    "im = Image.open(\"contrast/pred1.png\")\n",
    "\n",
    "# Calculate statistics\n",
    "stats = ImageStat.Stat(im)                                                                 \n",
    "\n",
    "for band,name in enumerate(im.getbands()): \n",
    "    print(f'Band: {name}, min/max: {stats.extrema[band]}, stddev: {stats.stddev[band]}')"
   ]
  },
  {
   "cell_type": "code",
   "execution_count": 22,
   "id": "6d0c995a-f584-442c-bd24-561d104195a0",
   "metadata": {},
   "outputs": [
    {
     "name": "stdout",
     "output_type": "stream",
     "text": [
      "Band: L, min/max: (0, 195), stddev: 96.95620523457995\n"
     ]
    }
   ],
   "source": [
    "\n",
    "#script_dir = os.path.dirname(os.path.abspath(__file__))\n",
    "#im = Image.open(os.path.join(script_dir, './753.jpg'))\n",
    "# Load image\n",
    "im = Image.open(\"contrast/258.png\")\n",
    "\n",
    "# Calculate statistics\n",
    "stats = ImageStat.Stat(im)                                                                 \n",
    "\n",
    "for band,name in enumerate(im.getbands()): \n",
    "    print(f'Band: {name}, min/max: {stats.extrema[band]}, stddev: {stats.stddev[band]}')"
   ]
  },
  {
   "cell_type": "code",
   "execution_count": 23,
   "id": "5e9f5b99-d8ce-45c6-9e21-18f200b5a3df",
   "metadata": {},
   "outputs": [
    {
     "name": "stdout",
     "output_type": "stream",
     "text": [
      "Band: L, min/max: (0, 255), stddev: 34.555686003017314\n"
     ]
    }
   ],
   "source": [
    "\n",
    "#script_dir = os.path.dirname(os.path.abspath(__file__))\n",
    "#im = Image.open(os.path.join(script_dir, './753.jpg'))\n",
    "# Load image\n",
    "im = Image.open(\"contrast/pred1 (2).png\")\n",
    "\n",
    "# Calculate statistics\n",
    "stats = ImageStat.Stat(im)                                                                 \n",
    "\n",
    "for band,name in enumerate(im.getbands()): \n",
    "    print(f'Band: {name}, min/max: {stats.extrema[band]}, stddev: {stats.stddev[band]}')"
   ]
  },
  {
   "cell_type": "code",
   "execution_count": null,
   "id": "2e9407fd-e08e-4075-8274-9c2e1d777c30",
   "metadata": {},
   "outputs": [],
   "source": []
  }
 ],
 "metadata": {
  "kernelspec": {
   "display_name": "Python 3 (ipykernel)",
   "language": "python",
   "name": "python3"
  },
  "language_info": {
   "codemirror_mode": {
    "name": "ipython",
    "version": 3
   },
   "file_extension": ".py",
   "mimetype": "text/x-python",
   "name": "python",
   "nbconvert_exporter": "python",
   "pygments_lexer": "ipython3",
   "version": "3.7.10"
  }
 },
 "nbformat": 4,
 "nbformat_minor": 5
}
